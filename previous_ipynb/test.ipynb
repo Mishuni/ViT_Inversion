{
 "cells": [
  {
   "cell_type": "code",
   "execution_count": 1,
   "metadata": {},
   "outputs": [],
   "source": [
    "import sys, os\n",
    "import cv2\n",
    "import copy\n",
    "import torch\n",
    "import torch.nn as nn\n",
    "import torchvision\n",
    "import torchvision.transforms as transforms\n",
    "from matplotlib import pyplot as plt\n",
    "from tqdm.notebook import tqdm\n",
    "\n",
    "from inversion_attacks import GradientInversion_Attack\n",
    "#import aijack.attack.inversion.hybrid_util as hybrid\n",
    "#from aijack.utils import NumpyDataset, construct_dataloaders, consts, psnr, ConservativeStrategy\n",
    "from vit_pytorch import ViT\n",
    "\n",
    "\n",
    "import numpy as np\n",
    "from PIL import Image\n",
    "\n",
    "from IQA_pytorch import SSIM \n",
    "import lpips \n",
    "import csv "
   ]
  },
  {
   "cell_type": "code",
   "execution_count": 2,
   "metadata": {},
   "outputs": [],
   "source": [
    "class LeNet(nn.Module):\n",
    "        def __init__(self, channel=3, hideen=768, num_classes=10):\n",
    "            super(LeNet, self).__init__()\n",
    "            act = nn.Sigmoid\n",
    "            self.body = nn.Sequential(\n",
    "                nn.Conv2d(channel, 12, kernel_size=5, padding=5 // 2, stride=2),\n",
    "                nn.BatchNorm2d(12),\n",
    "                act(),\n",
    "                nn.Conv2d(12, 12, kernel_size=5, padding=5 // 2, stride=2),\n",
    "                nn.BatchNorm2d(12),\n",
    "                act(),\n",
    "                nn.Conv2d(12, 12, kernel_size=5, padding=5 // 2, stride=1),\n",
    "                nn.BatchNorm2d(12),\n",
    "                act(),\n",
    "            )\n",
    "            self.fc = nn.Sequential(nn.Linear(hideen, num_classes))\n",
    "\n",
    "        def forward(self, x):\n",
    "            out = self.body(x)\n",
    "            out = out.view(out.size(0), -1)\n",
    "            out = self.fc(out)\n",
    "            return out"
   ]
  },
  {
   "cell_type": "code",
   "execution_count": 3,
   "metadata": {},
   "outputs": [
    {
     "name": "stdout",
     "output_type": "stream",
     "text": [
      "{'device': device(type='cuda', index=0), 'dtype': torch.float32}\n"
     ]
    }
   ],
   "source": [
    "num_classes = 10\n",
    "channel = 1\n",
    "hidden = 588\n",
    "seed = 42\n",
    "\n",
    "device = torch.device(\"cuda:0\") if torch.cuda.is_available() else \"cpu\"\n",
    "setup = dict(device=device, dtype=torch.float)  \n",
    "print(setup)"
   ]
  },
  {
   "cell_type": "code",
   "execution_count": 4,
   "metadata": {},
   "outputs": [],
   "source": [
    "x = torch.load(\"./demodata/demo_mnist_x.pt\").to(**setup)\n",
    "y = torch.load(\"./demodata/demo_mnist_y.pt\").to(device)"
   ]
  },
  {
   "cell_type": "code",
   "execution_count": 5,
   "metadata": {},
   "outputs": [
    {
     "data": {
      "image/png": "[encoded data removed]",
      "text/plain": [
       "<Figure size 640x480 with 1 Axes>"
      ]
     },
     "metadata": {},
     "output_type": "display_data"
    }
   ],
   "source": [
    "plt.imshow(x[0].permute(1, 2, 0).detach().cpu().numpy(), cmap='gray')\n",
    "plt.axis(\"off\")\n",
    "plt.title(y.item())\n",
    "plt.show()"
   ]
  },
  {
   "cell_type": "code",
   "execution_count": 6,
   "metadata": {},
   "outputs": [],
   "source": [
    "criterion = nn.CrossEntropyLoss()\n",
    "net = LeNet(channel=channel, hideen=hidden, num_classes=num_classes).to(device)\n",
    "pred = net(x)\n",
    "loss = criterion(pred, y)\n",
    "received_gradients = torch.autograd.grad(loss, net.parameters())\n",
    "received_gradients = [cg.detach() for cg in received_gradients]"
   ]
  },
  {
   "cell_type": "code",
   "execution_count": 7,
   "metadata": {},
   "outputs": [
    {
     "data": {
      "text/plain": [
       "[BatchNorm2d(12, eps=1e-05, momentum=0.1, affine=True, track_running_stats=True),\n",
       " BatchNorm2d(12, eps=1e-05, momentum=0.1, affine=True, track_running_stats=True),\n",
       " BatchNorm2d(12, eps=1e-05, momentum=0.1, affine=True, track_running_stats=True)]"
      ]
     },
     "execution_count": 7,
     "metadata": {},
     "output_type": "execute_result"
    }
   ],
   "source": [
    "bn_reg_layers=[net.body[1], net.body[4], net.body[7]]\n",
    "bn_reg_layers"
   ]
  },
  {
   "cell_type": "code",
   "execution_count": 8,
   "metadata": {},
   "outputs": [],
   "source": [
    "dlg_attacker_1 = GradientInversion_Attack(\n",
    "    net, (1, 28, 28), lr=1.0, \n",
    "    log_interval=100, num_iteration=1200, distancename=\"l2\",\n",
    "    device=device )"
   ]
  },
  {
   "cell_type": "code",
   "execution_count": 9,
   "metadata": {},
   "outputs": [
    {
     "ename": "TypeError",
     "evalue": "min() received an invalid combination of arguments - got (Tensor, float), but expected one of:\n * (Tensor input)\n * (Tensor input, Tensor other, *, Tensor out)\n * (Tensor input, int dim, bool keepdim, *, tuple of Tensors out)\n * (Tensor input, name dim, bool keepdim, *, tuple of Tensors out)\n",
     "output_type": "error",
     "traceback": [
      "\u001b[0;31m---------------------------------------------------------------------------\u001b[0m",
      "\u001b[0;31mTypeError\u001b[0m                                 Traceback (most recent call last)",
      "Cell \u001b[0;32mIn [9], line 2\u001b[0m\n\u001b[1;32m      1\u001b[0m dlg_attacker_1\u001b[39m.\u001b[39mreset_seed(seed)\n\u001b[0;32m----> 2\u001b[0m reconstructed_x_1, reconstructed_y_1 \u001b[39m=\u001b[39m dlg_attacker_1\u001b[39m.\u001b[39;49mattack(received_gradients)\n",
      "File \u001b[0;32m~/code/ViT_Inversion/inversion_attacks/gradientinversion.py:399\u001b[0m, in \u001b[0;36mGradientInversion_Attack.attack\u001b[0;34m(self, received_gradients, batch_size, init_x, labels)\u001b[0m\n\u001b[1;32m    396\u001b[0m     scheduler\u001b[39m.\u001b[39mstep()\n\u001b[1;32m    398\u001b[0m \u001b[39mif\u001b[39;00m \u001b[39mTrue\u001b[39;00m:\n\u001b[0;32m--> 399\u001b[0m     fake_x\u001b[39m.\u001b[39mdata \u001b[39m=\u001b[39m torch\u001b[39m.\u001b[39mmax(torch\u001b[39m.\u001b[39;49mmin(fake_x, (\u001b[39m1\u001b[39;49m \u001b[39m-\u001b[39;49m dm) \u001b[39m/\u001b[39;49m ds), \u001b[39m-\u001b[39mdm \u001b[39m/\u001b[39m ds)\n\u001b[1;32m    401\u001b[0m \u001b[39mif\u001b[39;00m \u001b[39mself\u001b[39m\u001b[39m.\u001b[39mclamp_range \u001b[39mis\u001b[39;00m \u001b[39mnot\u001b[39;00m \u001b[39mNone\u001b[39;00m:\n\u001b[1;32m    402\u001b[0m     \u001b[39mwith\u001b[39;00m torch\u001b[39m.\u001b[39mno_grad():\n",
      "\u001b[0;31mTypeError\u001b[0m: min() received an invalid combination of arguments - got (Tensor, float), but expected one of:\n * (Tensor input)\n * (Tensor input, Tensor other, *, Tensor out)\n * (Tensor input, int dim, bool keepdim, *, tuple of Tensors out)\n * (Tensor input, name dim, bool keepdim, *, tuple of Tensors out)\n"
     ]
    },
    {
     "ename": "",
     "evalue": "",
     "output_type": "error",
     "traceback": [
      "\u001b[1;31mThe Kernel crashed while executing code in the the current cell or a previous cell. Please review the code in the cell(s) to identify a possible cause of the failure. Click <a href='https://aka.ms/vscodeJupyterKernelCrash'>here</a> for more info. View Jupyter <a href='command:jupyter.viewOutput'>log</a> for further details."
     ]
    }
   ],
   "source": [
    "dlg_attacker_1.reset_seed(seed)\n",
    "reconstructed_x_1, reconstructed_y_1 = dlg_attacker_1.attack(received_gradients)\n"
   ]
  },
  {
   "cell_type": "code",
   "execution_count": null,
   "metadata": {},
   "outputs": [
    {
     "ename": "",
     "evalue": "",
     "output_type": "error",
     "traceback": [
      "\u001b[1;31mRunning cells with '/usr/bin/python3' requires ipykernel package.\n",
      "\u001b[1;31mRun the following command to install 'ipykernel' into the Python environment. \n",
      "\u001b[1;31mCommand: '/usr/bin/python3 -m pip install ipykernel -U --user --force-reinstall'"
     ]
    }
   ],
   "source": [
    "plt.imshow(reconstructed_x_1[0].permute(1, 2, 0).detach().cpu().numpy(), cmap='gray')\n",
    "plt.axis(\"off\")\n",
    "plt.show()"
   ]
  },
  {
   "cell_type": "code",
   "execution_count": 8,
   "metadata": {},
   "outputs": [
    {
     "data": {
      "text/plain": [
       "['Averaged',\n",
       " 0.046183813363313675,\n",
       " 1.019648790359497,\n",
       " 0.575711190700531,\n",
       " 5.936093807220459,\n",
       " 0.0018603120697662234,\n",
       " 0.9703517556190491]"
      ]
     },
     "execution_count": 8,
     "metadata": {},
     "output_type": "execute_result"
    }
   ],
   "source": [
    "results_list = \\\n",
    "[[0, 0.046183813363313675, 1.019648790359497, 0.575711190700531, 5.936093807220459, 0.0018603120697662234, 0.9703517556190491, 'beagle'],\n",
    " [1, 0.046183813363313675, 1.019648790359497, 0.575711190700531, 5.936093807220459, 0.0018603120697662234, 0.9703517556190491, 'beagle']]\n",
    "import numpy as np\n",
    "temp = list(np.mean([r[1:-1] for r in results_list],axis=0))\n",
    "temp.insert(0,'Averaged')\n",
    "temp"
   ]
  },
  {
   "cell_type": "code",
   "execution_count": null,
   "metadata": {},
   "outputs": [
    {
     "ename": "",
     "evalue": "",
     "output_type": "error",
     "traceback": [
      "\u001b[1;31mRunning cells with '/usr/bin/python3' requires ipykernel package.\n",
      "\u001b[1;31mRun the following command to install 'ipykernel' into the Python environment. \n",
      "\u001b[1;31mCommand: '/usr/bin/python3 -m pip install ipykernel -U --user --force-reinstall'"
     ]
    }
   ],
   "source": []
  }
 ],
 "metadata": {
  "kernelspec": {
   "display_name": "hybrid",
   "language": "python",
   "name": "python3"
  },
  "language_info": {
   "codemirror_mode": {
    "name": "ipython",
    "version": 3
   },
   "file_extension": ".py",
   "mimetype": "text/x-python",
   "name": "python",
   "nbconvert_exporter": "python",
   "pygments_lexer": "ipython3",
   "version": "3.8.13"
  },
  "orig_nbformat": 4,
  "vscode": {
   "interpreter": {
    "hash": "f62956db8a665a671ccfc29d68f1ab861d6a62898ff804aa7f2cbf647f181907"
   }
  }
 },
 "nbformat": 4,
 "nbformat_minor": 2
}
